{
 "cells": [
  {
   "cell_type": "code",
   "execution_count": 4,
   "metadata": {},
   "outputs": [],
   "source": [
    "valor1 = float(input(\"Digite um número:\"))\n",
    "valor2 = float(input(\"Digite outro número:\"))\n",
    "\n"
   ]
  },
  {
   "cell_type": "code",
   "execution_count": 5,
   "metadata": {},
   "outputs": [
    {
     "name": "stdout",
     "output_type": "stream",
     "text": [
      "True\n",
      "False\n",
      "False\n",
      "True\n",
      "True\n"
     ]
    }
   ],
   "source": [
    "print(valor1 == valor2)\n",
    "print(valor1 > valor2)\n",
    "print(valor1 < valor2)\n",
    "print(valor1 >= valor2)\n",
    "print(valor1 <= valor2)\n"
   ]
  },
  {
   "cell_type": "code",
   "execution_count": 15,
   "metadata": {},
   "outputs": [
    {
     "name": "stdout",
     "output_type": "stream",
     "text": [
      "Acesso Liberado \n"
     ]
    }
   ],
   "source": [
    "# Estruturas logicas , IF e ELSE\n",
    "senhaVdd = 50\n",
    "senha = int(input(\"Qual a senha ?\"))\n",
    "\n",
    "if senha == senhaVdd:\n",
    "    print(\"Acesso Liberado \")    \n",
    "\n",
    "else:\n",
    "    print(\"Tente novamente\")\n",
    "\n",
    "    "
   ]
  },
  {
   "cell_type": "code",
   "execution_count": 14,
   "metadata": {},
   "outputs": [
    {
     "name": "stdout",
     "output_type": "stream",
     "text": [
      "False\n",
      "True\n"
     ]
    }
   ],
   "source": [
    "# Conectivos logicos\n",
    "# And, OR \n",
    "\n",
    "numero = 10\n",
    "print(numero > 0 and numero < 10)\n",
    "print(numero > 0 or numero < 10)\n"
   ]
  },
  {
   "cell_type": "code",
   "execution_count": 17,
   "metadata": {},
   "outputs": [
    {
     "name": "stdout",
     "output_type": "stream",
     "text": [
      "Seu número 15 é Impar\n"
     ]
    }
   ],
   "source": [
    "numero1 = int(input(\"Digite um número\"))\n",
    "\n",
    "if (numero1 % 2 == 0):\n",
    "    print(\"Seu número\" ,numero1, \"é par\")\n",
    "else:\n",
    "    print(\"Seu número\", numero1, \"é Impar\")\n"
   ]
  },
  {
   "cell_type": "code",
   "execution_count": 2,
   "metadata": {},
   "outputs": [
    {
     "name": "stdout",
     "output_type": "stream",
     "text": [
      "Você ganhou 10% de desconto\n"
     ]
    }
   ],
   "source": [
    "cupom = input(\"Digite o cupom\")\n",
    "if (cupom == \"aula1\" or cupom == \"aula2\"):\n",
    "    print(\"Você ganhou 10% de desconto\")\n",
    "else:\n",
    "    print(\"Cupom invalido\")"
   ]
  }
 ],
 "metadata": {
  "kernelspec": {
   "display_name": "Python 3",
   "language": "python",
   "name": "python3"
  },
  "language_info": {
   "codemirror_mode": {
    "name": "ipython",
    "version": 3
   },
   "file_extension": ".py",
   "mimetype": "text/x-python",
   "name": "python",
   "nbconvert_exporter": "python",
   "pygments_lexer": "ipython3",
   "version": "3.11.9"
  }
 },
 "nbformat": 4,
 "nbformat_minor": 2
}
